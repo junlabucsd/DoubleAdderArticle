{
 "cells": [
  {
   "cell_type": "markdown",
   "metadata": {},
   "source": [
    "# Importing experimental data from Si & Le Treut (2019)"
   ]
  },
  {
   "cell_type": "code",
   "execution_count": 1,
   "metadata": {},
   "outputs": [],
   "source": [
    "%load_ext autoreload\n",
    "%autoreload 2\n",
    "%matplotlib inline"
   ]
  },
  {
   "cell_type": "markdown",
   "metadata": {},
   "source": [
    "## Imports"
   ]
  },
  {
   "cell_type": "code",
   "execution_count": 2,
   "metadata": {},
   "outputs": [],
   "source": [
    "import os, copy, pickle\n",
    "import numpy as np\n",
    "import pandas as pd\n",
    "\n",
    "import matplotlib.pyplot as plt\n",
    "\n",
    "import sys\n",
    "sys.path.append('code')\n",
    "from functions_response import process_fsglt, fit_normal_fsglt, fit_lognormal_fsglt\n",
    "\n",
    "sys.path.append(os.path.join('..','colicycle','colicycle'))\n",
    "import exp_parameters as ep"
   ]
  },
  {
   "cell_type": "markdown",
   "metadata": {},
   "source": [
    "## Parameters"
   ]
  },
  {
   "cell_type": "code",
   "execution_count": 3,
   "metadata": {},
   "outputs": [],
   "source": [
    "dirdata = os.path.join('data','2019FSGLT')\n",
    "direxp = os.path.join('.','experiments')\n",
    "if not os.path.isdir(direxp):\n",
    "    os.makedirs(direxp)\n",
    "    \n",
    "exp_map = {\n",
    "    'mg1655_acetate': 'MG1655 M9 acetate.csv', \\\n",
    "    'mg1655_glucose': 'MG1655 MOPS glucose.csv', \\\n",
    "    'mg1655_glycerol11aa': 'MG1655 MOPS glycerol 11aa.csv', \\\n",
    "    'ncm3722_arginine': 'NCM3722 MOPS arginine.csv', \\\n",
    "    'ncm3722_glucose': 'NCM3722 MOPS glucose.csv', \\\n",
    "    'ncm3722_glucose12aa': 'NCM3722 MOPS glucose 12aa.csv' \\\n",
    "}"
   ]
  },
  {
   "cell_type": "markdown",
   "metadata": {},
   "source": [
    "## Load data"
   ]
  },
  {
   "cell_type": "code",
   "execution_count": 4,
   "metadata": {
    "scrolled": true
   },
   "outputs": [
    {
     "name": "stdout",
     "output_type": "stream",
     "text": [
      "./experiments/mg1655_acetate/colidata.pkl\n",
      "./experiments/mg1655_glucose/colidata.pkl\n",
      "./experiments/mg1655_glycerol11aa/colidata.pkl\n",
      "./experiments/ncm3722_arginine/colidata.pkl\n",
      "./experiments/ncm3722_glucose/colidata.pkl\n",
      "./experiments/ncm3722_glucose12aa/colidata.pkl\n"
     ]
    }
   ],
   "source": [
    "for name in exp_map.keys():\n",
    "    filename = exp_map[name]\n",
    "    fpath = os.path.join(dirdata, filename)\n",
    "\n",
    "    with open(fpath,'r') as fin:\n",
    "        df = pd.read_csv(fin, header=0)\n",
    "\n",
    "    sel = ['elongation rate (1/hour)',\n",
    "           'initiation size per ori (micron)',\n",
    "           'division size (micron)', 'newborn size (micron)',\n",
    "           'added size (micron)', 'cell width (micron)', \n",
    "           'generation time (minute)', 'tau_cyc (minute)', 'septum position',\n",
    "           'cell ID', 'daughter ID']\n",
    "\n",
    "    # reorder columns\n",
    "    df = df[sel]\n",
    "\n",
    "    # rename columns\n",
    "    col_mapping = {\n",
    "        'elongation rate (1/hour)': 'lambda', \\\n",
    "        'initiation size per ori (micron)': 'Lambda_i', \\\n",
    "        'tau_cyc (minute)': 'taucyc', \\\n",
    "        'division size (micron)': 'Sd', \\\n",
    "        'newborn size (micron)': 'Sb', \\\n",
    "        'added size (micron)': 'Delta_bd', \\\n",
    "        'cell width (micron)': 'width', \\\n",
    "        'generation time (minute)': 'tau', \\\n",
    "        'tau_cyc (minute)': 'tau_cyc', \\\n",
    "        'septum position': 'phi'}\n",
    "\n",
    "    df.rename(columns=col_mapping, inplace=True)\n",
    "\n",
    "    # convert growth rate to per minutes\n",
    "    df['lambda'] = df['lambda'] / 60.\n",
    "    df['tau_eff'] = np.log(2.)/df['lambda']\n",
    "\n",
    "    # process the data frame to add attributes\n",
    "    process_fsglt(df)\n",
    "    \n",
    "    # choose a method for the computation of delta_id and delta_ii\n",
    "    # see source code for details\n",
    "    col_mapping = { \\\n",
    "                   'delta_id_m1': 'delta_id', \\\n",
    "                   'delta_ii_forward': 'delta_ii', \\\n",
    "                   }\n",
    "    df.rename(columns=col_mapping, inplace=True)\n",
    "\n",
    "    # save the dataframe\n",
    "    fname = \"{:s}.pkl\".format(name)\n",
    "    outputdir = os.path.join(direxp, name)\n",
    "    if not os.path.isdir(outputdir):\n",
    "        os.makedirs(outputdir)\n",
    "    fpath = os.path.join(outputdir,'colidata.pkl')\n",
    "    df.to_pickle(fpath)\n",
    "    print(fpath)"
   ]
  },
  {
   "cell_type": "markdown",
   "metadata": {},
   "source": [
    "## Save parameters for simulations"
   ]
  },
  {
   "cell_type": "code",
   "execution_count": 6,
   "metadata": {},
   "outputs": [],
   "source": [
    "col_mapping = {\n",
    "    'tau_eff': 'tau_fit', \\\n",
    "    'Sb': 'Lb_fit', \\\n",
    "    'Sd': 'Ld_fit', \\\n",
    "    'Lambda_i': 'Li_fit', \\\n",
    "    'delta_ii': 'DLi', \\\n",
    "    'delta_id': 'DLdLi', \\\n",
    "    'Delta_bd': 'dL', \\\n",
    "    'phi': 'phi', \\\n",
    "    'mother ID': 'mother_id',\\\n",
    "    'cell ID': 'cell_id'}"
   ]
  },
  {
   "cell_type": "code",
   "execution_count": 7,
   "metadata": {},
   "outputs": [
    {
     "name": "stdout",
     "output_type": "stream",
     "text": [
      "Loaded mg1655_acetate\n",
      "Loaded mg1655_glucose\n",
      "Loaded mg1655_glycerol11aa\n",
      "Loaded ncm3722_arginine\n",
      "Loaded ncm3722_glucose\n",
      "Loaded ncm3722_glucose12aa\n"
     ]
    }
   ],
   "source": [
    "for name in exp_map.keys():\n",
    "    inputdir = os.path.join(direxp, name)\n",
    "    fname = \"{:s}.pkl\".format('colidata')\n",
    "    fpath = os.path.join(inputdir,fname)\n",
    "    colidata = pd.read_pickle(fpath)\n",
    "    print(\"Loaded {:s}\".format(name))\n",
    "    \n",
    "    # rename and select useful columns\n",
    "    sel = list(col_mapping.values())\n",
    "    colidata = colidata.rename(columns=col_mapping)\n",
    "    colidata = colidata[sel]\n",
    "    colidata=colidata.set_index('cell_id')\n",
    "    colidata\n",
    "    \n",
    "    # compute parameters\n",
    "    \n",
    "    tau_corr = ep.calculate_tau_correlation(colidata,'tau_fit')\n",
    "    bin_pos_tau, valbins_tau, res_fit_tau = fit_lognormal_fsglt(colidata['tau_fit'],np.arange(2,6,0.1))\n",
    "    bin_pos_DLi, valbins_DLi, res_fit_DLi = fit_normal_fsglt(colidata['DLi'],np.arange(0,2,0.1))\n",
    "    bin_pos_DLdLi, valbins_DLdLi, res_fit_DLdLi = fit_lognormal_fsglt(colidata['DLdLi'],np.arange(-1,2,0.1))\n",
    "    bin_pos_Lb, valbins_Lb, res_fit_Lb = fit_normal_fsglt(colidata['Lb_fit'],np.arange(0,5,0.1))\n",
    "    bin_pos_Lblog, valbins_Lblog, res_fit_Lblog = fit_lognormal_fsglt(colidata['Lb_fit'],np.arange(-1,2,0.1))\n",
    "    bin_pos_dL, valbins_dL, res_fit_dL = fit_normal_fsglt(colidata['dL'],np.arange(0,5,0.1))\n",
    "\n",
    "    # same method won't work because only mother cells are retained here\n",
    "    # no 2 cells with same mother.\n",
    "    # divR_std = ep.calculate_div_ratio(colidata)\n",
    "    phi = colidata['phi'].to_numpy()\n",
    "    divR = phi / (1.-phi)\n",
    "    divR = np.concatenate([divR, 1/divR])\n",
    "    divR_std = np.nanstd(divR)\n",
    "\n",
    "    # store the parameters\n",
    "    param_storage={}\n",
    "    param_storage['tau_corr'] = tau_corr\n",
    "    param_storage['fit_logtau'] = res_fit_tau.x\n",
    "    param_storage['fit_DLi'] = res_fit_DLi.x\n",
    "    param_storage['fit_logDLdLi'] = res_fit_DLdLi.x\n",
    "    param_storage['fit_Lb'] = res_fit_Lb.x\n",
    "    param_storage['fit_logLb'] = res_fit_Lblog.x\n",
    "    param_storage['fit_dL'] = res_fit_dL.x\n",
    "    param_storage['divR_std'] = divR_std\n",
    "    \n",
    "    outputdir = os.path.join(direxp, name)\n",
    "    fpath = os.path.join(outputdir,'simul_params.pkl')\n",
    "    with open(fpath, 'wb') as f:\n",
    "        pickle.dump(param_storage, f, pickle.HIGHEST_PROTOCOL)\n",
    "        \n",
    "    # plots\n",
    "    fig,axes = plt.subplots(2,3, figsize=(15,5))\n",
    "    axes[0,0].plot(bin_pos_tau, valbins_tau,'o')\n",
    "    axes[0,0].plot(bin_pos_tau, ep.fun_single_gauss(bin_pos_tau, *res_fit_tau.x))\n",
    "    axes[0,0].set_title('tau_fit')\n",
    "    axes[0,1].plot(bin_pos_DLi, valbins_DLi,'o')\n",
    "    axes[0,1].plot(bin_pos_DLi, ep.fun_single_gauss(bin_pos_DLi, *res_fit_DLi.x))\n",
    "    axes[0,1].set_title('DLi')\n",
    "    axes[0,2].plot(bin_pos_DLdLi, valbins_DLdLi,'o')\n",
    "    axes[0,2].plot(bin_pos_DLdLi, ep.fun_single_gauss(bin_pos_DLdLi, *res_fit_DLdLi.x))\n",
    "    axes[0,2].set_title('DLdLi')\n",
    "    axes[1,0].plot(bin_pos_Lb, valbins_Lb,'o')\n",
    "    axes[1,0].plot(bin_pos_Lb, ep.fun_single_gauss(bin_pos_Lb, *res_fit_Lb.x))\n",
    "    axes[1,0].set_title('Lb')\n",
    "    axes[1,1].plot(bin_pos_Lblog, valbins_Lblog,'o')\n",
    "    axes[1,1].plot(bin_pos_Lblog, ep.fun_single_gauss(bin_pos_Lblog, *res_fit_Lblog.x))\n",
    "    axes[1,1].set_title('Lb_log')\n",
    "    axes[1,2].plot(bin_pos_dL, valbins_dL,'o')\n",
    "    axes[1,2].plot(bin_pos_dL, ep.fun_single_gauss(bin_pos_dL, *res_fit_dL.x))\n",
    "    axes[1,2].set_title('dL')\n",
    "    \n",
    "    outputdir = os.path.join(direxp, name)\n",
    "    fpath = os.path.join(outputdir,'fit_figure')\n",
    "    fig.savefig(fpath + '.png', dpi=300, bbox_inches='tight', pad_inches=0 )\n",
    "    plt.close('all')"
   ]
  }
 ],
 "metadata": {
  "kernelspec": {
   "display_name": "Python 3",
   "language": "python",
   "name": "python3"
  },
  "language_info": {
   "codemirror_mode": {
    "name": "ipython",
    "version": 3
   },
   "file_extension": ".py",
   "mimetype": "text/x-python",
   "name": "python",
   "nbconvert_exporter": "python",
   "pygments_lexer": "ipython3",
   "version": "3.8.2"
  }
 },
 "nbformat": 4,
 "nbformat_minor": 4
}

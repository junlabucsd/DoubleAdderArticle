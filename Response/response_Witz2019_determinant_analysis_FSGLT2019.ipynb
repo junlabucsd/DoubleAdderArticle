{
 "cells": [
  {
   "cell_type": "markdown",
   "metadata": {},
   "source": [
    "# Determinant analysis on experimental data from Si & Le Treut (2019)"
   ]
  },
  {
   "cell_type": "code",
   "execution_count": null,
   "metadata": {},
   "outputs": [],
   "source": [
    "%load_ext autoreload\n",
    "%autoreload 2\n",
    "%matplotlib inline"
   ]
  },
  {
   "cell_type": "markdown",
   "metadata": {},
   "source": [
    "## Imports"
   ]
  },
  {
   "cell_type": "code",
   "execution_count": 24,
   "metadata": {},
   "outputs": [],
   "source": [
    "import os, copy, pickle, itertools, tabulate\n",
    "import numpy as np\n",
    "import pandas as pd\n",
    "\n",
    "import matplotlib.pyplot as plt\n",
    "\n",
    "import sys\n",
    "sys.path.append('code')\n",
    "from functions_response import add_allvariables, compute_determinant, plot_Ivalues, load_table"
   ]
  },
  {
   "cell_type": "markdown",
   "metadata": {},
   "source": [
    "## Parameters"
   ]
  },
  {
   "cell_type": "code",
   "execution_count": 26,
   "metadata": {},
   "outputs": [],
   "source": [
    "direxp = os.path.join('.','experiments')\n",
    "names = ['mg1655_acetate', \\\n",
    "         'mg1655_glucose', \\\n",
    "         'mg1655_glycerol11aa', \\\n",
    "         'ncm3722_arginine', \\\n",
    "         'ncm3722_glucose', \\\n",
    "         'ncm3722_glucose12aa' \\\n",
    "        ]\n",
    "# names = [\n",
    "#          'ncm3722_glucose'\n",
    "#         ]\n",
    "\n",
    "label_mapping = { \\\n",
    "                'lambda': \"$\\lambda$\", \\\n",
    "                'Sb': \"$S_b$\",\\\n",
    "                'Sd': \"$S_d$\",\\\n",
    "                'tau': \"$\\\\tau$\",\\\n",
    "                'tau_cyc': \"$\\\\tau_{cyc}$\" , \\\n",
    "                'tau_bi': \"$\\\\tau_{bi}$\", \\\n",
    "                'Si': \"$S_i$\" , \\\n",
    "                'Delta_bd': \"$\\Delta_{d}$\", \\\n",
    "                'Delta_bi': \"$\\Delta_{bi}$\", \\\n",
    "                'R_bd': \"$R_{bd}$\", \\\n",
    "                'R_bi': \"$R_{bi}$\", \\\n",
    "                'Lambda_i': \"$\\Lambda_i$\", \\\n",
    "                'tau_ii': \"$\\\\tau_{ii}$\", \\\n",
    "                'delta_id': \"$\\delta_{id}$\", \\\n",
    "                'delta_ii_backward': \"$\\delta_{ii}^{(bwd)}$\", \\\n",
    "                'delta_ii_forward': \"$\\delta_{ii}^{(fwd)}$\", \\\n",
    "                'R_ii': \"$R_{ii}$\", \\\n",
    "                'R_id': \"$R_{id}$\"\n",
    "                }\n",
    "nval = 50  # number of values to report in the plot\n",
    "ext_list = ['.png','.svg']"
   ]
  },
  {
   "cell_type": "markdown",
   "metadata": {},
   "source": [
    "## Perform determinant analysis"
   ]
  },
  {
   "cell_type": "code",
   "execution_count": 5,
   "metadata": {},
   "outputs": [],
   "source": [
    "for name in names:\n",
    "    fpath = os.path.join(direxp,name,'colidata.pkl')\n",
    "#     print(fpath)\n",
    "    \n",
    "    colidata = pd.read_pickle(fpath)\n",
    "\n",
    "\n",
    "    sel=['lambda', 'Sb','Sd','tau','tau_cyc', 'initiator B', 'Si', 'Delta_bd', 'Delta_bi', 'R_bd', 'R_bi', 'Lambda_i', 'tau_ii', 'delta_id', 'delta_ii', 'R_ii', 'R_id', 'delta_ii_forward' ]\n",
    "\n",
    "    add_allvariables(colidata)\n",
    "#     df.loc[:,sel]\n",
    "\n",
    "    # rename some variables\n",
    "    col_mapping = { \\\n",
    "                'initiator B': 'tau_bi', \\\n",
    "                'delta_ii': 'delta_ii_backward', \\\n",
    "                }\n",
    "    colidata = colidata.rename(columns=col_mapping)\n",
    "\n",
    "    for i in range(len(sel)):\n",
    "        if sel[i] in col_mapping.keys():\n",
    "            sel[i] = col_mapping[sel[i]]\n",
    "    colidata['lambda'] = colidata['lambda']*60\n",
    "#     colidata.loc[:, sel]\n",
    "\n",
    "    # determinant analysis\n",
    "    count=0\n",
    "    nvar = 3\n",
    "    table = []\n",
    "    for comb in itertools.combinations(sel, nvar):\n",
    "        count+=1\n",
    "        data = colidata.loc[:,list(comb)].dropna().to_numpy().astype('float64').T\n",
    "        I = compute_determinant(data)\n",
    "    #     print(count,comb,\"I = {:.4f}\".format(I))\n",
    "        table += [list(comb) + [I]]\n",
    "\n",
    "    table.sort(key=lambda x: x[3], reverse=True)\n",
    "    headers=['var {:d}'.format(i+1) for i in range(nvar)]+['I']\n",
    "\n",
    "    fname = 'determinant_analysis'\n",
    "    fpath = os.path.join(direxp,name,fname + '.txt')\n",
    "\n",
    "    with open(fpath,'w') as fout:\n",
    "        fout.write(tabulate.tabulate(table, tablefmt='plain', headers=headers))\n",
    "    "
   ]
  },
  {
   "cell_type": "markdown",
   "metadata": {},
   "source": [
    "## Print ranking for Witz 2019, Si & Le Treut 2019 and HC models."
   ]
  },
  {
   "cell_type": "code",
   "execution_count": 9,
   "metadata": {},
   "outputs": [
    {
     "name": "stdout",
     "output_type": "stream",
     "text": [
      "----------\n",
      "mg1655_acetate\n",
      "GW (backward)       I = 0.814357\n",
      "GW (forward)        I = 0.924268\n",
      "HC                  I = 0.417602\n",
      "SLT (backward)      I = 0.648092\n",
      "SLT (forward)       I = 0.829172\n",
      "----------\n",
      "mg1655_glucose\n",
      "GW (backward)       I = 0.908310\n",
      "GW (forward)        I = 0.875542\n",
      "HC                  I = 0.471560\n",
      "SLT (backward)      I = 0.879010\n",
      "SLT (forward)       I = 0.833507\n",
      "----------\n",
      "mg1655_glycerol11aa\n",
      "GW (backward)       I = 0.851348\n",
      "GW (forward)        I = 0.812516\n",
      "HC                  I = 0.497346\n",
      "SLT (backward)      I = 0.769906\n",
      "SLT (forward)       I = 0.713263\n",
      "----------\n",
      "ncm3722_arginine\n",
      "GW (backward)       I = 0.800610\n",
      "GW (forward)        I = 0.807433\n",
      "HC                  I = 0.671608\n",
      "SLT (backward)      I = 0.781593\n",
      "SLT (forward)       I = 0.934928\n",
      "----------\n",
      "ncm3722_glucose\n",
      "GW (backward)       I = 0.953348\n",
      "GW (forward)        I = 0.939279\n",
      "HC                  I = 0.738780\n",
      "SLT (backward)      I = 0.911598\n",
      "SLT (forward)       I = 0.973360\n",
      "----------\n",
      "ncm3722_glucose12aa\n",
      "GW (backward)       I = 0.956981\n",
      "GW (forward)        I = 0.927092\n",
      "HC                  I = 0.717715\n",
      "SLT (backward)      I = 0.961196\n",
      "SLT (forward)       I = 0.952118\n"
     ]
    }
   ],
   "source": [
    "for name in names:\n",
    "    print('-'*10)\n",
    "    print(name)\n",
    "    \n",
    "    fname = 'determinant_analysis'\n",
    "    fpath = os.path.join(direxp,name,fname + '.txt')\n",
    "    table = load_table(fpath)\n",
    "\n",
    "    # get the 3 values\n",
    "    special_combs = {\\\n",
    "                     'GW (backward)': ['lambda', 'delta_ii_backward', 'delta_id'], \\\n",
    "                     'GW (forward)': ['lambda', 'delta_ii_forward', 'delta_id'], \\\n",
    "                     'HC': ['lambda', 'tau_cyc', 'Lambda_i'], \\\n",
    "                     'SLT (backward)': ['lambda', 'Delta_bd', 'delta_ii_backward'], \\\n",
    "                     'SLT (forward)': ['lambda', 'Delta_bd', 'delta_ii_forward'], \\\n",
    "                    }\n",
    "    for key in special_combs.keys():\n",
    "        myvars = set(special_combs[key])\n",
    "        for line in table:\n",
    "            thisvars = set(line[:-1])\n",
    "            I = line[-1]\n",
    "            if myvars == thisvars:\n",
    "                print(\"{:<20s}I = {:.6f}\".format(key,I))\n",
    "                break"
   ]
  },
  {
   "cell_type": "markdown",
   "metadata": {},
   "source": [
    "### Make plots"
   ]
  },
  {
   "cell_type": "code",
   "execution_count": 27,
   "metadata": {},
   "outputs": [
    {
     "name": "stdout",
     "output_type": "stream",
     "text": [
      "----------\n",
      "mg1655_acetate\n",
      "Saved figure in ./experiments/mg1655_acetate/determinant_analysis.png\n",
      "Saved figure in ./experiments/mg1655_acetate/determinant_analysis.svg\n",
      "----------\n",
      "mg1655_glucose\n",
      "Saved figure in ./experiments/mg1655_glucose/determinant_analysis.png\n",
      "Saved figure in ./experiments/mg1655_glucose/determinant_analysis.svg\n",
      "----------\n",
      "mg1655_glycerol11aa\n",
      "Saved figure in ./experiments/mg1655_glycerol11aa/determinant_analysis.png\n",
      "Saved figure in ./experiments/mg1655_glycerol11aa/determinant_analysis.svg\n",
      "----------\n",
      "ncm3722_arginine\n",
      "Saved figure in ./experiments/ncm3722_arginine/determinant_analysis.png\n",
      "Saved figure in ./experiments/ncm3722_arginine/determinant_analysis.svg\n",
      "----------\n",
      "ncm3722_glucose\n",
      "Saved figure in ./experiments/ncm3722_glucose/determinant_analysis.png\n",
      "Saved figure in ./experiments/ncm3722_glucose/determinant_analysis.svg\n",
      "----------\n",
      "ncm3722_glucose12aa\n",
      "Saved figure in ./experiments/ncm3722_glucose12aa/determinant_analysis.png\n",
      "Saved figure in ./experiments/ncm3722_glucose12aa/determinant_analysis.svg\n"
     ]
    }
   ],
   "source": [
    "for name in names:\n",
    "    print('-'*10)\n",
    "    print(name)\n",
    "    \n",
    "    # load data\n",
    "    fname = 'determinant_analysis'\n",
    "    fpath = os.path.join(direxp,name,fname + '.txt')\n",
    "    table = load_table(fpath)\n",
    "    \n",
    "    # make figure\n",
    "    figname = \"determinant_analysis_top{:d}\".format(nval)\n",
    "    fpath = os.path.join(direxp,name,fname)\n",
    "    fig = plot_Ivalues(table, label_mapping, fig_title=name, nval=nval, figsize=(3,12), fmt_str='{:.4f}')\n",
    "    \n",
    "    for ext in ext_list:\n",
    "        fig.savefig(fpath+ext, dpi=300, bbox_inches='tight', pad_inches=0)\n",
    "        print(\"Saved figure in {:s}\".format(fpath+ext))\n",
    "#     fig.clf()\n",
    "    plt.close('all')\n"
   ]
  },
  {
   "cell_type": "code",
   "execution_count": null,
   "metadata": {},
   "outputs": [],
   "source": []
  }
 ],
 "metadata": {
  "kernelspec": {
   "display_name": "Python 3",
   "language": "python",
   "name": "python3"
  },
  "language_info": {
   "codemirror_mode": {
    "name": "ipython",
    "version": 3
   },
   "file_extension": ".py",
   "mimetype": "text/x-python",
   "name": "python",
   "nbconvert_exporter": "python",
   "pygments_lexer": "ipython3",
   "version": "3.8.2"
  }
 },
 "nbformat": 4,
 "nbformat_minor": 4
}

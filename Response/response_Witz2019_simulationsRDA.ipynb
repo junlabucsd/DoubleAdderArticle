{
 "cells": [
  {
   "cell_type": "markdown",
   "metadata": {},
   "source": [
    "# Simulations"
   ]
  },
  {
   "cell_type": "markdown",
   "metadata": {},
   "source": [
    "Go to [Index](response_Witz2019_index.ipynb)."
   ]
  },
  {
   "cell_type": "markdown",
   "metadata": {},
   "source": [
    "Here we provide the script to generate the simulation files used in this response"
   ]
  },
  {
   "cell_type": "code",
   "execution_count": 1,
   "metadata": {},
   "outputs": [],
   "source": [
    "%load_ext autoreload\n",
    "%autoreload 2\n",
    "%matplotlib inline"
   ]
  },
  {
   "cell_type": "code",
   "execution_count": 2,
   "metadata": {},
   "outputs": [],
   "source": [
    "import os, copy, pickle\n",
    "import numpy as np\n",
    "\n",
    "import sys\n",
    "sys.path.append(os.path.join('..','colicycle','colicycle'))\n",
    "import coli_simulation as cs"
   ]
  },
  {
   "cell_type": "code",
   "execution_count": 3,
   "metadata": {},
   "outputs": [],
   "source": [
    "# create variables for the path to simulation files\n",
    "dir_simu = 'simulations'\n",
    "if not os.path.isdir(dir_simu):\n",
    "    os.makedirs(dir_simu)"
   ]
  },
  {
   "cell_type": "markdown",
   "metadata": {},
   "source": [
    "## Simulations for Figure 5\n",
    "The simulations run here are used in [response_Witz2019_figure5](response_Witz2019_figure5.ipynb)."
   ]
  },
  {
   "cell_type": "code",
   "execution_count": 4,
   "metadata": {},
   "outputs": [],
   "source": [
    "# define conditions and list experimental parameter files\n",
    "paramsdict = {}\n",
    "paramsdict['glycerol'] = {}\n",
    "paramsdict['glycerol']['paramfile'] = os.path.join('..', 'PreProcessed', '20180706_GW296_glycerol37_1_MMStack', 'simul_params.pkl')\n",
    "\n",
    "paramsdict['glycerolauto'] = {}\n",
    "paramsdict['glycerolauto']['paramfile'] = os.path.join('..', 'PreProcessed', '20170327_GW339_temp', 'simul_params.pkl')\n",
    "\n",
    "paramsdict['glucose'] = {}\n",
    "paramsdict['glucose']['paramfile'] = os.path.join('..', 'PreProcessed', '20180711_GW296_glucose37_1_MMStack', 'simul_params.pkl')\n",
    "\n",
    "paramsdict['glucose8aa'] = {}\n",
    "paramsdict['glucose8aa']['paramfile'] = os.path.join('..', 'PreProcessed', '20180709_GW296_glucose8aa37_1_MMStack', 'simul_params.pkl')\n",
    "\n",
    "names = list(paramsdict.keys())\n",
    "nfiles = len(names)"
   ]
  },
  {
   "cell_type": "code",
   "execution_count": 5,
   "metadata": {},
   "outputs": [
    {
     "name": "stdout",
     "output_type": "stream",
     "text": [
      "OUTPUT: simulations/glycerol_standard_N5T200000.pkl\n",
      "OUTPUT: simulations/glycerol_symmetrical_N5T200000.pkl\n",
      "OUTPUT: simulations/glycerol_standard_N500T2000.pkl\n",
      "OUTPUT: simulations/glycerol_symmetrical_N500T2000.pkl\n",
      "OUTPUT: simulations/glycerolauto_standard_N5T200000.pkl\n",
      "OUTPUT: simulations/glycerolauto_symmetrical_N5T200000.pkl\n",
      "OUTPUT: simulations/glycerolauto_standard_N500T2000.pkl\n",
      "OUTPUT: simulations/glycerolauto_symmetrical_N500T2000.pkl\n",
      "OUTPUT: simulations/glucose_standard_N5T200000.pkl\n",
      "OUTPUT: simulations/glucose_symmetrical_N5T200000.pkl\n",
      "OUTPUT: simulations/glucose_standard_N500T2000.pkl\n",
      "OUTPUT: simulations/glucose_symmetrical_N500T2000.pkl\n",
      "OUTPUT: simulations/glucose8aa_standard_N5T200000.pkl\n",
      "OUTPUT: simulations/glucose8aa_symmetrical_N5T200000.pkl\n",
      "OUTPUT: simulations/glucose8aa_standard_N500T2000.pkl\n",
      "OUTPUT: simulations/glucose8aa_symmetrical_N500T2000.pkl\n"
     ]
    }
   ],
   "source": [
    "# simulation parameters\n",
    "seed=123    # seed for random number generator (before each run)\n",
    "numcells = [5, 500]  # N\n",
    "tot_times = [200000, 2000] # T\n",
    "nori_init = 1\n",
    "\n",
    "# start loop\n",
    "for ind in range(nfiles):\n",
    "    ## load experimental parameters\n",
    "    name = names[ind]\n",
    "    paramfile = paramsdict[name]['paramfile']\n",
    "    \n",
    "    with open(paramfile, 'rb') as f:\n",
    "        exp_params = pickle.load(f)\n",
    "        \n",
    "    params = {'tau_logn_mu' : exp_params['fit_logtau'][1], \\\n",
    "              'tau_logn_sigma' : exp_params['fit_logtau'][2], \\\n",
    "              'tau_corr': exp_params['tau_corr'][0], \\\n",
    "              'DLi_mu': exp_params['fit_DLi'][1], \\\n",
    "              'DLi_sigma': exp_params['fit_DLi'][2], \\\n",
    "              'DLdLi_logn_mu': exp_params['fit_logDLdLi'][1], \\\n",
    "              'DLdLi_logn_sigma': exp_params['fit_logDLdLi'][2], \\\n",
    "              'Lb_logn_mu': exp_params['fit_logLb'][1], \\\n",
    "              'Lb_logn_sigma':exp_params['fit_logLb'][2], \\\n",
    "              'dL_mu': exp_params['fit_dL'][1], \\\n",
    "              'dL_sigma': exp_params['fit_dL'][2], \\\n",
    "              'div_ratio': exp_params['divR_std'] \\\n",
    "             }\n",
    "\n",
    "    params_bkp = {key: params[key] for key in params}\n",
    "    \n",
    "    ## loop on requested number of initial cells and total time\n",
    "    for N,T in zip(numcells,tot_times):\n",
    "        ### restart from original parameters\n",
    "        params = {key: params_bkp[key] for key in params_bkp}\n",
    "        \n",
    "        ### 1. standard simulation -- witz et al. code\n",
    "        style = 'standard'\n",
    "        fname = '{:s}_{:s}_N{:d}T{:d}'.format(name, style, N, T)\n",
    "        np.random.seed(seed)\n",
    "        simul = cs.simul_doubleadder(N, run_time=T, params=params, name=fname, nori_init=nori_init)\n",
    "        simul_pd_exp = cs.standardise_dataframe(simul)\n",
    "        fpath = os.path.join(dir_simu,\"{:s}.pkl\".format(fname))\n",
    "        simul_pd_exp.to_pickle(fpath)\n",
    "        print(\"OUTPUT:\", fpath)\n",
    "\n",
    "        ### 2. no septum noise simulation -- witz et al. code\n",
    "        style = 'symmetrical'\n",
    "        params['div_ratio'] = 0.\n",
    "        fname = '{:s}_{:s}_N{:d}T{:d}'.format(name, style, N, T)\n",
    "        np.random.seed(seed)\n",
    "        simul = cs.simul_doubleadder(N, run_time=T, params=params, name=fname, nori_init=nori_init)\n",
    "        simul_pd_exp = cs.standardise_dataframe(simul)\n",
    "        fpath = os.path.join(dir_simu,\"{:s}.pkl\".format(fname))\n",
    "        simul_pd_exp.to_pickle(fpath)\n",
    "        print(\"OUTPUT:\", fpath)\n",
    "        \n",
    "    # end loop on modules\n",
    "# end loop on parameters"
   ]
  },
  {
   "cell_type": "markdown",
   "metadata": {},
   "source": [
    "### Simulations using Si & Le Treut experimental data"
   ]
  },
  {
   "cell_type": "markdown",
   "metadata": {},
   "source": [
    "The experimental parameters files were constructed in [response_Witz2019_import_junlab_data](response_Witz2019_import_junlab_data.ipynb)."
   ]
  },
  {
   "cell_type": "code",
   "execution_count": 6,
   "metadata": {},
   "outputs": [],
   "source": [
    "# define conditions and list experimental parameter files\n",
    "names = ['mg1655_acetate', \\\n",
    "         'mg1655_glucose', \\\n",
    "         'mg1655_glycerol11aa', \\\n",
    "         'ncm3722_arginine', \\\n",
    "         'ncm3722_glucose', \\\n",
    "         'ncm3722_glucose12aa' \\\n",
    "        ]\n",
    "paramsdict = {}\n",
    "for name in names:\n",
    "    paramsdict[name] = {}\n",
    "    paramsdict[name]['paramfile'] = os.path.join('experiments', name, 'simul_params.pkl')\n",
    "    \n",
    "nfiles = len(names)"
   ]
  },
  {
   "cell_type": "code",
   "execution_count": 7,
   "metadata": {},
   "outputs": [
    {
     "name": "stdout",
     "output_type": "stream",
     "text": [
      "OUTPUT: simulations/mg1655_acetate_standard_N5T200000.pkl\n",
      "OUTPUT: simulations/mg1655_acetate_symmetrical_N5T200000.pkl\n",
      "OUTPUT: simulations/mg1655_glucose_standard_N5T200000.pkl\n",
      "OUTPUT: simulations/mg1655_glucose_symmetrical_N5T200000.pkl\n",
      "OUTPUT: simulations/mg1655_glycerol11aa_standard_N5T200000.pkl\n",
      "OUTPUT: simulations/mg1655_glycerol11aa_symmetrical_N5T200000.pkl\n",
      "OUTPUT: simulations/ncm3722_arginine_standard_N5T200000.pkl\n",
      "OUTPUT: simulations/ncm3722_arginine_symmetrical_N5T200000.pkl\n",
      "OUTPUT: simulations/ncm3722_glucose_standard_N5T200000.pkl\n",
      "OUTPUT: simulations/ncm3722_glucose_symmetrical_N5T200000.pkl\n",
      "OUTPUT: simulations/ncm3722_glucose12aa_standard_N5T200000.pkl\n",
      "OUTPUT: simulations/ncm3722_glucose12aa_symmetrical_N5T200000.pkl\n"
     ]
    }
   ],
   "source": [
    "# simulation parameters\n",
    "seed=123    # seed for random number generator (before each run)\n",
    "numcells = [5]  # N\n",
    "tot_times = [200000] # T\n",
    "nori_init = 1\n",
    "\n",
    "# start loop\n",
    "for ind in range(nfiles):\n",
    "    ## load experimental parameters\n",
    "    name = names[ind]\n",
    "    paramfile = paramsdict[name]['paramfile']\n",
    "    \n",
    "    with open(paramfile, 'rb') as f:\n",
    "        exp_params = pickle.load(f)\n",
    "        \n",
    "    params = {'tau_logn_mu' : exp_params['fit_logtau'][1], \\\n",
    "              'tau_logn_sigma' : exp_params['fit_logtau'][2], \\\n",
    "              'tau_corr': exp_params['tau_corr'][0], \\\n",
    "              'DLi_mu': exp_params['fit_DLi'][1], \\\n",
    "              'DLi_sigma': exp_params['fit_DLi'][2], \\\n",
    "              'DLdLi_logn_mu': exp_params['fit_logDLdLi'][1], \\\n",
    "              'DLdLi_logn_sigma': exp_params['fit_logDLdLi'][2], \\\n",
    "              'Lb_logn_mu': exp_params['fit_logLb'][1], \\\n",
    "              'Lb_logn_sigma':exp_params['fit_logLb'][2], \\\n",
    "              'dL_mu': exp_params['fit_dL'][1], \\\n",
    "              'dL_sigma': exp_params['fit_dL'][2], \\\n",
    "              'div_ratio': exp_params['divR_std'] \\\n",
    "             }\n",
    "\n",
    "    params_bkp = {key: params[key] for key in params}\n",
    "    \n",
    "    ## loop on requested number of initial cells and total time\n",
    "    for N,T in zip(numcells,tot_times):\n",
    "        ### restart from original parameters\n",
    "        params = {key: params_bkp[key] for key in params_bkp}\n",
    "        \n",
    "        ### 1. standard simulation -- witz et al. code\n",
    "        style = 'standard'\n",
    "        fname = '{:s}_{:s}_N{:d}T{:d}'.format(name, style, N, T)\n",
    "        np.random.seed(seed)\n",
    "        simul = cs.simul_doubleadder(N, run_time=T, params=params, name=fname, nori_init=nori_init)\n",
    "        simul_pd_exp = cs.standardise_dataframe(simul)\n",
    "        fpath = os.path.join(dir_simu,\"{:s}.pkl\".format(fname))\n",
    "        simul_pd_exp.to_pickle(fpath)\n",
    "        print(\"OUTPUT:\", fpath)\n",
    "\n",
    "        ### 2. no septum noise simulation -- witz et al. code\n",
    "        style = 'symmetrical'\n",
    "        params['div_ratio'] = 0.\n",
    "        fname = '{:s}_{:s}_N{:d}T{:d}'.format(name, style, N, T)\n",
    "        np.random.seed(seed)\n",
    "        simul = cs.simul_doubleadder(N, run_time=T, params=params, name=fname, nori_init=nori_init)\n",
    "        simul_pd_exp = cs.standardise_dataframe(simul)\n",
    "        fpath = os.path.join(dir_simu,\"{:s}.pkl\".format(fname))\n",
    "        simul_pd_exp.to_pickle(fpath)\n",
    "        print(\"OUTPUT:\", fpath)\n",
    "        \n",
    "    # end loop on modules\n",
    "# end loop on parameters"
   ]
  }
 ],
 "metadata": {
  "kernelspec": {
   "display_name": "Python 3",
   "language": "python",
   "name": "python3"
  },
  "language_info": {
   "codemirror_mode": {
    "name": "ipython",
    "version": 3
   },
   "file_extension": ".py",
   "mimetype": "text/x-python",
   "name": "python",
   "nbconvert_exporter": "python",
   "pygments_lexer": "ipython3",
   "version": "3.8.2"
  }
 },
 "nbformat": 4,
 "nbformat_minor": 4
}

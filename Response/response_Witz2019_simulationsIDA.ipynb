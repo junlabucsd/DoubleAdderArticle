{
 "cells": [
  {
   "cell_type": "markdown",
   "metadata": {},
   "source": [
    "# Simulations of the IDA model to check the predicted $(\\Lambda_i, \\delta_{id})$ correlation"
   ]
  },
  {
   "cell_type": "markdown",
   "metadata": {},
   "source": [
    "Go to [Index](response_Witz2019_index.ipynb)."
   ]
  },
  {
   "cell_type": "markdown",
   "metadata": {},
   "source": [
    "In this notebook, we perform simulations of the IDA model so that we can assert the theoretical prediction for the $(\\Lambda_i, \\delta_{id})$ correlation:\n",
    "$$\n",
    "\\rho(\\Lambda_i, \\delta_{id}) = - \\frac{1}{\\sqrt{1 + \\frac{\\sigma_{dd}^2}{\\sigma_{ii}^2}}}.\n",
    "$$"
   ]
  },
  {
   "cell_type": "code",
   "execution_count": 1,
   "metadata": {},
   "outputs": [],
   "source": [
    "%load_ext autoreload\n",
    "%autoreload 2\n",
    "%matplotlib inline"
   ]
  },
  {
   "cell_type": "code",
   "execution_count": 23,
   "metadata": {},
   "outputs": [],
   "source": [
    "import os, re, copy\n",
    "import numpy as np\n",
    "import pandas as pd\n",
    "import scipy.stats as sst\n",
    "import matplotlib.pyplot as plt\n",
    "import matplotlib.colors as mco\n",
    "import matplotlib.cm as cm\n",
    "import matplotlib.ticker as ticker\n",
    "import matplotlib.gridspec as mgs\n",
    "plt.rcParams['svg.fonttype'] = 'none'   # to export text as text, not curves\n",
    "from IPython.display import Image\n",
    "import warnings\n",
    "warnings.filterwarnings('ignore')\n",
    "\n",
    "import sys\n",
    "sys.path.append('code')\n",
    "# from functions_response import plot_2varcorr_expsim, plot_2varcorr_overlay, process_df_SIM\n",
    "from simulations import run_IDA, plot_2varcorr_overlay"
   ]
  },
  {
   "cell_type": "code",
   "execution_count": 40,
   "metadata": {},
   "outputs": [],
   "source": [
    "def func_slope(dataframe):\n",
    "    delta_ii, delta_dd = dataframe.loc[:, ['dLAi','dSd']].to_numpy().astype('float64').T\n",
    "    mu_ii = np.nanmean(delta_ii)\n",
    "    mu_dd = np.nanmean(delta_dd)\n",
    "    s_ii = np.nanstd(delta_ii)\n",
    "    s_dd = np.nanstd(delta_dd)\n",
    "    print(\"mu_ii = {:.4f}    s_ii = {:.4f}    CV = {:.0f} %\".format(mu_ii, s_ii, s_ii/mu_ii*100))\n",
    "    print(\"mu_dd = {:.4f}    s_dd = {:.4f}    CV = {:.0f} %\".format(mu_dd, s_dd, s_dd/mu_dd*100))\n",
    "\n",
    "    A = -1./(mu_dd/mu_ii - 1.)\n",
    "    \n",
    "    return A"
   ]
  },
  {
   "cell_type": "code",
   "execution_count": 3,
   "metadata": {},
   "outputs": [],
   "source": [
    "# # create/declare export directory for figures\n",
    "# fig_dir = os.path.join('figures','LAi_delta_id_correlation')\n",
    "# if not os.path.isdir(fig_dir):\n",
    "#     os.makedirs(fig_dir)\n",
    "    \n",
    "# # experimental files\n",
    "# direxp = os.path.join('.','experiments')\n",
    "\n",
    "# # simulation files produced for this response.\n",
    "# dirsimu = 'simulations'\n",
    "# if not os.path.isdir(dirsimu):\n",
    "#     raise ValueError(\"Directory doesn't exist:\", dirsimu)\n",
    "    \n",
    "# # select extensions for the figure output\n",
    "# ext_list = ['.png','.svg']\n",
    "\n",
    "# # fields to plot\n",
    "# field_x = 'Lambda_i'\n",
    "# field_y = 'delta_id'"
   ]
  },
  {
   "cell_type": "code",
   "execution_count": 56,
   "metadata": {},
   "outputs": [],
   "source": [
    "params = { \\\n",
    "          'LAi': {\\\n",
    "                  'mu': 1., \\\n",
    "                  'cv': 0.10 \\\n",
    "                 }, \\\n",
    "          'Sd': {\\\n",
    "                 'mu': 2.7, \\\n",
    "                 'cv': 0.12 \\\n",
    "                }\n",
    "}\n",
    "mu_ds = np.linspace(1.5, 4, 11)"
   ]
  },
  {
   "cell_type": "code",
   "execution_count": 58,
   "metadata": {},
   "outputs": [],
   "source": [
    "params_bkp = copy.deepcopy(params)\n",
    "dfs = []\n",
    "for mu_d in mu_ds:\n",
    "    params = copy.deepcopy(params_bkp)\n",
    "    params['Sd']['mu'] = mu_d\n",
    "    df = run_IDA(100000, params)\n",
    "    df['delta_id'] = df['Sd'] - df['LAi']\n",
    "    \n",
    "#     stats = df.describe()\n",
    "#     stats.loc['cv'] = stats.loc['std'] / stats.loc['mean']\n",
    "#     stats\n",
    "\n",
    "    dfs.append(df)"
   ]
  },
  {
   "cell_type": "code",
   "execution_count": 60,
   "metadata": {},
   "outputs": [
    {
     "name": "stdout",
     "output_type": "stream",
     "text": [
      "binw = 0.0500\n",
      "mu_ii = 0.5000    s_ii = 0.0866    CV = 17 %\n",
      "mu_dd = 0.7499    s_dd = 0.1559    CV = 21 %\n",
      "binw = 0.0500\n",
      "mu_ii = 0.5003    s_ii = 0.0868    CV = 17 %\n",
      "mu_dd = 0.8754    s_dd = 0.1815    CV = 21 %\n",
      "binw = 0.0500\n",
      "mu_ii = 0.5000    s_ii = 0.0865    CV = 17 %\n",
      "mu_dd = 0.9999    s_dd = 0.2081    CV = 21 %\n",
      "binw = 0.0500\n",
      "mu_ii = 0.4999    s_ii = 0.0864    CV = 17 %\n",
      "mu_dd = 1.1248    s_dd = 0.2325    CV = 21 %\n",
      "binw = 0.0500\n",
      "mu_ii = 0.5001    s_ii = 0.0868    CV = 17 %\n",
      "mu_dd = 1.2500    s_dd = 0.2603    CV = 21 %\n",
      "binw = 0.0500\n",
      "mu_ii = 0.5001    s_ii = 0.0862    CV = 17 %\n",
      "mu_dd = 1.3758    s_dd = 0.2866    CV = 21 %\n",
      "binw = 0.0500\n",
      "mu_ii = 0.5002    s_ii = 0.0865    CV = 17 %\n",
      "mu_dd = 1.4996    s_dd = 0.3110    CV = 21 %\n",
      "binw = 0.0500\n",
      "mu_ii = 0.5001    s_ii = 0.0868    CV = 17 %\n",
      "mu_dd = 1.6234    s_dd = 0.3380    CV = 21 %\n",
      "binw = 0.0500\n",
      "mu_ii = 0.5002    s_ii = 0.0866    CV = 17 %\n",
      "mu_dd = 1.7510    s_dd = 0.3643    CV = 21 %\n",
      "binw = 0.0500\n",
      "mu_ii = 0.5000    s_ii = 0.0866    CV = 17 %\n",
      "mu_dd = 1.8757    s_dd = 0.3902    CV = 21 %\n",
      "binw = 0.0500\n",
      "mu_ii = 0.4999    s_ii = 0.0865    CV = 17 %\n",
      "mu_dd = 1.9989    s_dd = 0.4162    CV = 21 %\n"
     ]
    },
    {
     "data": {
      "image/png": "[encoded data removed]",
      "text/plain": [
       "<Figure size 576x216 with 1 Axes>"
      ]
     },
     "metadata": {},
     "output_type": "display_data"
    }
   ],
   "source": [
    "binw_dict = 0.05\n",
    "x0 = 0.5\n",
    "x1 = 1.5\n",
    "figsize=(8,3)\n",
    "ms=4\n",
    "\n",
    "fig = plot_2varcorr_overlay(dfs, field_x = 'LAi', field_y = 'delta_id', \\\n",
    "                            binw_dict = binw_dict, x0=x0, x1=x1, ms=ms, \\\n",
    "                            figsize=figsize, normalize=True, func_slope=func_slope)"
   ]
  },
  {
   "cell_type": "code",
   "execution_count": null,
   "metadata": {},
   "outputs": [],
   "source": []
  }
 ],
 "metadata": {
  "kernelspec": {
   "display_name": "Python 3",
   "language": "python",
   "name": "python3"
  },
  "language_info": {
   "codemirror_mode": {
    "name": "ipython",
    "version": 3
   },
   "file_extension": ".py",
   "mimetype": "text/x-python",
   "name": "python",
   "nbconvert_exporter": "python",
   "pygments_lexer": "ipython3",
   "version": "3.9.4"
  }
 },
 "nbformat": 4,
 "nbformat_minor": 4
}

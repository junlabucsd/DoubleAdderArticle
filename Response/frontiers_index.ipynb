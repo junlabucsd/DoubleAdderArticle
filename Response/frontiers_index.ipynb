{
 "cells": [
  {
   "cell_type": "markdown",
   "metadata": {},
   "source": [
    "# Supplementary Information"
   ]
  },
  {
   "cell_type": "markdown",
   "metadata": {},
   "source": [
    "The present notebook outlines the numerical analysis underlying the results presented in the manuscript: *Quantitative examination of five stochastic cell-cycle and cell-size control models for Escherichia coli and Bacillus subtilis*.\n",
    "\n",
    "## Main methods\n",
    "We list here from which notebook the results shown in the different figures were generated.\n",
    "\n",
    "| Figure number | Notebook |\n",
    "| --- | --- |\n",
    "| 2 | [frontiers_correlations_comparison](frontiers_correlations_comparison.ipynb) |\n",
    "| 3(top) | [frontiers_Ivalue_comparison](frontiers_Ivalue_comparison.ipynb) |\n",
    "| 3(bottom) | [response_Witz2019_determinant_analysis](response_Witz2019_determinant_analysis.ipynb) |\n",
    "| 5 | [response_Witz2019_list_experimental_params](response_Witz2019_list_experimental_params.ipynb) |\n",
    "\n",
    "## Additional methods\n",
    "This work contains some results that were obtained while writing a comment about a recent study by [Witz *et al.* (2019)](https://doi.org/10.7554/eLife.48063). The numerical analysis for those results is also available in this repository. Refers to the corresponding [index](response_Witz2019_index.ipynb) to navigate through this work. This led to a series of exchanges:\n",
    "* [*Comment on ‘Initiation of chromosome replication controls both division and replication cycles in E. coli through a double-adder mechanism’*](https://www.biorxiv.org/content/10.1101/2020.05.08.084376v2)\n",
    "* [*Response to comment on ‘Initiation of chromosome replication controls both division and replication cycles in E. coli through a double-adder mechanism’*](https://www.biorxiv.org/content/10.1101/2020.08.04.227694v1)\n",
    "* [*Single-cell data and correlation analysis support the independent double adder model in both Escherichia coli and Bacillus subtilis*](https://www.biorxiv.org/content/10.1101/2020.10.06.315820v1).\n",
    "\n"
   ]
  }
 ],
 "metadata": {
  "kernelspec": {
   "display_name": "Python 3",
   "language": "python",
   "name": "python3"
  },
  "language_info": {
   "codemirror_mode": {
    "name": "ipython",
    "version": 3
   },
   "file_extension": ".py",
   "mimetype": "text/x-python",
   "name": "python",
   "nbconvert_exporter": "python",
   "pygments_lexer": "ipython3",
   "version": "3.9.4"
  }
 },
 "nbformat": 4,
 "nbformat_minor": 4
}

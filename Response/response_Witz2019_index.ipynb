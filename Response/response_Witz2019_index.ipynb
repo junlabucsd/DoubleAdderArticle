{
 "cells": [
  {
   "cell_type": "markdown",
   "metadata": {},
   "source": [
    "# Response to Witz et al (2019)"
   ]
  },
  {
   "cell_type": "markdown",
   "metadata": {},
   "source": [
    "The present notebook outlines the re-analysis performed on the work from Witz and colleagues."
   ]
  },
  {
   "cell_type": "markdown",
   "metadata": {},
   "source": [
    "## Theory"
   ]
  },
  {
   "cell_type": "markdown",
   "metadata": {},
   "source": [
    "The model put forward by Witz and colleagues implies that the cell size at division at generation $n$ is fully determined by the following variables:\n",
    "* $\\Lambda_i$: the cell size at initiation per origin.\n",
    "* $\\delta_{ii}$: the added size per origin between consecutive rounds of replication.\n",
    "* $\\delta_{id}$: the added size between replication initiation, and cell division (specifically: the division event at which the replicated origins are separated into two daughter cells).\n",
    "\n",
    "### Limiting distributions\n",
    "In this model, the following relations holds:\n",
    "\\begin{equation}\n",
    "\\left\\lbrace \n",
    "\\begin{array}{l c l}\n",
    "\\Lambda_i^{(n)} &=& \\frac{1}{2}\\Lambda_i^{(n-1)} + \\delta_{ii}^{(n)}, \\\\\n",
    "S_d^{(n)} &=& \\Lambda_i^{(n)} + 2 \\delta_{id}^{(n)},\n",
    "\\end{array}\n",
    "\\right.\n",
    "\\end{equation}\n",
    "$n$ the division cycle (e.g. the generation). Assuming that $\\delta_{ii}^{(n)}$ (resp. $\\delta_{id}^{(n)}$) are  independent and identically distributed Gaussian variables with mean $\\mu_{ii}$ (resp. $\\mu_{id}$) and variance $\\sigma_{ii}^2$ (resp. $\\sigma_{id}^2$), it follows that $\\Lambda_i^{(n)}$ and $S_d^{(n)}$ are also Gaussian variables. They converge to the limiting distributions $\\Lambda_i \\equiv \\mathrm{N}\\left(\\mu_i, \\sigma_i\\right)$ and $S_d \\equiv \\mathrm{N}\\left(\\mu_d, \\sigma_d\\right)$, with:\n",
    "\\begin{equation}\n",
    "\\left\\lbrace\n",
    "\\begin{array}{lcl}\n",
    "\\mu_i &=& 2 \\mu_{ii}, \\\\\n",
    "\\sigma_i^2 &=& \\frac{4}{3} \\sigma_{ii}^2,\n",
    "\\end{array}\n",
    "\\right .\n",
    "\\quad\n",
    "\\text{and}\n",
    "\\quad\n",
    "\\left\\lbrace\n",
    "\\begin{array}{lcl}\n",
    "\\mu_d &=& 2 (\\mu_{ii} + \\mu_{id}), \\\\\n",
    "\\sigma_d^2 &=& 4 \\left( \\frac{\\sigma_{ii}^2}{3} + \\sigma_{id}^2 \\right).\n",
    "\\end{array}\n",
    "\\right .\n",
    "\\end{equation}\n",
    "\n",
    "### Mother/daughter correlations\n",
    "The mother/daughter correlation for division size is defined as:\n",
    "\\begin{equation}\n",
    "\\rho(S_d^{(n)},S_d^{(n-1)}) = \\frac{ \\left\\langle \\mathrm{d}S_d^{(n)} \\cdot  \\mathrm{d}S_d^{(n-1)} \\right\\rangle}{\\sqrt{\\left\\langle \\left(\\mathrm{d}S_d^{(n)}\\right)^2 \\right\\rangle \\cdot \\left\\langle \\left(\\mathrm{d}S_d^{(n-1)}\\right)^2 \\right\\rangle }},\n",
    "\\end{equation}\n",
    "where $\\mathrm{d}S_d^{(n)} = S_d^{(n)} - \\langle S_d^{(n)} \\rangle$ is the centered variable.\n",
    "\n",
    "It is straightforward to show that:\n",
    "\\begin{equation}\n",
    "\\left\\langle \\mathrm{d}\\Lambda_i^{(n+1)} \\cdot \\mathrm{d}\\Lambda_i^{(n)} \\right\\rangle = \\frac{1}{2} \\left\\langle \\left(\\mathrm{d}\\Lambda_i^{(n)}\\right)^2 \\right\\rangle,\n",
    "\\quad\n",
    "\\Rightarrow\n",
    "\\quad\n",
    "\\rho\\left(\\Lambda_i^{(n)},\\Lambda_i^{(n-1)} \\right) \\xrightarrow{n \\to \\infty} \\frac{1}{2}.\n",
    "\\end{equation}\n",
    "\n",
    "It is also straightforward to show that:\n",
    "\\begin{equation}\n",
    "\\left\\langle \\mathrm{d}S_d^{(n+1)} \\cdot \\mathrm{d}S_d^{(n)} \\right\\rangle = \\left\\langle \\mathrm{d}\\Lambda_i^{(n+1)} \\cdot \\mathrm{d}\\Lambda_i^{(n)} \\right\\rangle\n",
    "\\quad\n",
    "\\Rightarrow\n",
    "\\quad\n",
    "\\rho\\left(S_d^{(n+1)},S_d^{(n)} \\right) \\xrightarrow{n \\to \\infty} \\frac{1}{2} \\frac{1}{1+3\\frac{\\sigma_{id}^2}{\\sigma_{ii}^2}}.\n",
    "\\end{equation}\n",
    "\n"
   ]
  },
  {
   "cell_type": "markdown",
   "metadata": {},
   "source": [
    "Under the condition of symmetrical division, we have validated those analytical results using simulations of Witz and colleagues. The results are shown in the notebook [response_Witz2019_model_check](response_Witz2019_model_check.ipynb)."
   ]
  },
  {
   "cell_type": "markdown",
   "metadata": {},
   "source": [
    "## Correlation in the cell size at division"
   ]
  },
  {
   "cell_type": "markdown",
   "metadata": {},
   "source": [
    "The correlation between consecutive cell sizes at division is a central quantity of cell size homeostasis. In the approximation where the joint distribution $\\mathbb{P}(S_d^{(n)}, S_d^{(n-1)})$ is a Gaussian bivariate distribution, we can write the conditional average of the division size at the generation $n$ with respect to the previous one:\n",
    "\\begin{equation}\n",
    "\\left \\langle S_d^{(n)} \\middle | S_d^{(n-1)}\\right \\rangle = \\rho S_d^{(n-1)} + (1 - \\rho) \\langle S_d \\rangle,\n",
    "\\end{equation}\n",
    "where $\\rho$ is a short-hand for the previously introduced correlation. Assuming symmetrical division, and denoting $S_b$ the cell size at birth, we obtain the following relation,\n",
    "\\begin{equation}\n",
    "\\left \\langle S_d - S_b \\middle | S_b \\right \\rangle  = (2\\rho - 1) S_b + (1 - \\rho) \\langle S_d \\rangle.\n",
    "\\end{equation}\n",
    "Therefore, the \"adder\" principle is equivalent to having $\\rho = 1/2$. Thus, using the results derived above, it appears that this model can only reproduce the \"adder\" principle in the deterministic limit $\\sigma_{id} \\to 0$.\n",
    "\n",
    "The results of this analysis can be found in the notebook [response_Witz2019_figure5](response_Witz2019_figure5.ipynb)."
   ]
  },
  {
   "cell_type": "markdown",
   "metadata": {},
   "source": [
    "## Simulations"
   ]
  },
  {
   "cell_type": "markdown",
   "metadata": {},
   "source": [
    "All simulations used in this response were generated using the notebook [response_Witz2019_simulations](response_Witz2019_simulations.ipynb)."
   ]
  },
  {
   "cell_type": "markdown",
   "metadata": {},
   "source": [
    "## Other problems"
   ]
  },
  {
   "cell_type": "markdown",
   "metadata": {},
   "source": [
    "We have encountered minor problems when executing the following notebook [figure_7B](../Plotting/figure_7B.ipynb).\n",
    "1. Executing the 3rd cell with experimental data other than `20170327_GW339_temp` gives an error. For example with `20180706_GW296_glycerol37_1_MMStack`.\n",
    "2. Executing the cells 7 gives an error. Same problem with cell 9."
   ]
  },
  {
   "cell_type": "markdown",
   "metadata": {},
   "source": [
    "## Modifications to the code"
   ]
  },
  {
   "cell_type": "markdown",
   "metadata": {},
   "source": [
    "In order to limit errors of interpretation of Witz and colleagues results, we have tried as much of possible to not modify the original code, especially for the simulations, which are central to this response. In some cases we proceeded to some minor changes:\n",
    "* `coli_simulation.py`. \n",
    "  * We modified the imports so that this code can be executed without installing the `colicycle` repository as a Python package. Similar alterations were made to some notebooks.\n",
    "  * We added the option to pass the initial number of origins as a parameter in the methods `simul_doubleadder` and `simul_growth_dinter_classicadder`. We had to modify the initialization of the volume counters in the first cell of the lineage.\n",
    "\n",
    "\n",
    "\n",
    "The modifications were commited to the existing git repository, therefore all modifications from the original version can be tracked."
   ]
  }
 ],
 "metadata": {
  "kernelspec": {
   "display_name": "Python 3",
   "language": "python",
   "name": "python3"
  },
  "language_info": {
   "codemirror_mode": {
    "name": "ipython",
    "version": 3
   },
   "file_extension": ".py",
   "mimetype": "text/x-python",
   "name": "python",
   "nbconvert_exporter": "python",
   "pygments_lexer": "ipython3",
   "version": "3.6.9"
  }
 },
 "nbformat": 4,
 "nbformat_minor": 2
}

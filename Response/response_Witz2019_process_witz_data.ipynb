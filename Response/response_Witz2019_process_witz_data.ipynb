{
 "cells": [
  {
   "cell_type": "markdown",
   "metadata": {},
   "source": [
    "# Processing data of Witz et al."
   ]
  },
  {
   "cell_type": "code",
   "execution_count": 1,
   "metadata": {},
   "outputs": [],
   "source": [
    "%load_ext autoreload\n",
    "%autoreload 2\n",
    "%matplotlib inline"
   ]
  },
  {
   "cell_type": "markdown",
   "metadata": {},
   "source": [
    "## Imports"
   ]
  },
  {
   "cell_type": "code",
   "execution_count": 2,
   "metadata": {},
   "outputs": [],
   "source": [
    "import os, copy, pickle\n",
    "import numpy as np\n",
    "import pandas as pd\n",
    "\n",
    "import matplotlib.pyplot as plt\n",
    "\n",
    "import sys\n",
    "sys.path.append('code')\n",
    "from functions_response import process_gw\n",
    "\n",
    "sys.path.append(os.path.join('..','colicycle','colicycle'))\n",
    "import exp_parameters as ep"
   ]
  },
  {
   "cell_type": "markdown",
   "metadata": {},
   "source": [
    "## Parameters"
   ]
  },
  {
   "cell_type": "code",
   "execution_count": 3,
   "metadata": {},
   "outputs": [],
   "source": [
    "direxp = os.path.join('.','experiments')\n",
    "if not os.path.isdir(direxp):\n",
    "    os.makedirs(direxp)\n"
   ]
  },
  {
   "cell_type": "markdown",
   "metadata": {},
   "source": [
    "## Process data and write it in the same format as Jun lab data"
   ]
  },
  {
   "cell_type": "code",
   "execution_count": 4,
   "metadata": {},
   "outputs": [],
   "source": [
    "# parameters\n",
    "mapping_dict = {'glycerol': { \\\n",
    "                             'dir': '20180706_GW296_glycerol37_1_MMStack', \\\n",
    "                             'period': 0 \\\n",
    "                            }, \n",
    "                'glucose': { \\\n",
    "                           'dir': '20180711_GW296_glucose37_1_MMStack', \\\n",
    "                            'period': 0 \\\n",
    "                           },\n",
    "                'glucose8aa': { \\\n",
    "                               'dir': '20180709_GW296_glucose8aa37_1_MMStack', \\\n",
    "                               'period': 0 \\\n",
    "                              },\n",
    "                'glycerolauto': { \\\n",
    "                                'dir': '20170327_GW339_temp', \\\n",
    "                                 'period': 1\n",
    "                                }\n",
    "            }\n",
    "# period from `dataset_fig_5AB.ipynb' notebook\n",
    "size_columns = ['length', 'Lb', 'Lb_fit', 'Ld_fit', 'Ld', 'Li', 'Li_fit', 'DLi', 'Li_old']\n",
    "size_scale = 0.065 # nm/px\n",
    "time_scale = 3 # min / frame\n",
    "fitting = False"
   ]
  },
  {
   "cell_type": "code",
   "execution_count": 5,
   "metadata": {},
   "outputs": [
    {
     "name": "stdout",
     "output_type": "stream",
     "text": [
      "glycerol ../PreProcessed/20180706_GW296_glycerol37_1_MMStack/colidata.pkl\n",
      "./experiments/glycerol/colidata.pkl\n",
      "glucose ../PreProcessed/20180711_GW296_glucose37_1_MMStack/colidata.pkl\n",
      "./experiments/glucose/colidata.pkl\n",
      "glucose8aa ../PreProcessed/20180709_GW296_glucose8aa37_1_MMStack/colidata.pkl\n",
      "./experiments/glucose8aa/colidata.pkl\n",
      "glycerolauto ../PreProcessed/20170327_GW339_temp/colidata.pkl\n",
      "./experiments/glycerolauto/colidata.pkl\n"
     ]
    }
   ],
   "source": [
    "# load files\n",
    "names = list(mapping_dict.keys())\n",
    "# names=['glucose8a']\n",
    "for name in names:\n",
    "    fpath = os.path.join('..','PreProcessed', mapping_dict[name]['dir'], 'colidata.pkl')\n",
    "    print(name, fpath)\n",
    "    colidata = pd.read_pickle(fpath)\n",
    "\n",
    "    outputdir = os.path.join(direxp, name)\n",
    "    if not os.path.isdir(outputdir):\n",
    "        os.makedirs(outputdir)\n",
    "\n",
    "    # rescale size\n",
    "    func = lambda x: x*size_scale\n",
    "    colidata[size_columns] = colidata[size_columns].apply(func)\n",
    "    \n",
    "    # remove cells without enough data points\n",
    "    func = lambda x:  len(x) < 2\n",
    "    idx = colidata['length'].apply(func)\n",
    "    colidata.drop(colidata.index[idx], axis=0, inplace=True)\n",
    "    \n",
    "    # process data\n",
    "    process_gw(colidata, time_scale, fitting, period=mapping_dict[name]['period'])\n",
    "    \n",
    "    # save this dataframe\n",
    "    fpath = os.path.join(outputdir,'colidata.pkl')\n",
    "    colidata.to_pickle(fpath)\n",
    "    \n",
    "    print(fpath)"
   ]
  }
 ],
 "metadata": {
  "kernelspec": {
   "display_name": "Python 3",
   "language": "python",
   "name": "python3"
  },
  "language_info": {
   "codemirror_mode": {
    "name": "ipython",
    "version": 3
   },
   "file_extension": ".py",
   "mimetype": "text/x-python",
   "name": "python",
   "nbconvert_exporter": "python",
   "pygments_lexer": "ipython3",
   "version": "3.8.2"
  }
 },
 "nbformat": 4,
 "nbformat_minor": 4
}
